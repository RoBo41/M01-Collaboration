{
 "cells": [
  {
   "cell_type": "code",
   "execution_count": 14,
   "id": "1e727040",
   "metadata": {},
   "outputs": [
    {
     "name": "stdout",
     "output_type": "stream",
     "text": [
      "3600\n"
     ]
    }
   ],
   "source": [
    "# This program determines the number of seconds in an hour and in a day.\n",
    "# The program then divides the two by floating point and integer division to see if the quotients come out the same minus the .0\n",
    "# Aaron Roberson\n",
    "# 3/25/2023\n",
    "hour = 60 #setting hour to 60 for how many minutes are in an hour\n",
    "seconds = 60 #setting seconds to 60 for how many seconds are in a minute\n",
    "\n",
    "result = (hour * seconds) #setting result as the product of hour * seconds\n",
    "print(result) #printing the result of the equation\n",
    "\n"
   ]
  },
  {
   "cell_type": "code",
   "execution_count": 8,
   "id": "54ace612",
   "metadata": {},
   "outputs": [],
   "source": [
    "seconds_per_hour = result #setting variable seconds_per_hour to hold the result of hour * seconds equation\n"
   ]
  },
  {
   "cell_type": "code",
   "execution_count": 9,
   "id": "6abf7baa",
   "metadata": {},
   "outputs": [
    {
     "name": "stdout",
     "output_type": "stream",
     "text": [
      "86400\n"
     ]
    }
   ],
   "source": [
    "day = 24 #setting variable day to 24 for hours in a day\n",
    "\n",
    "print(day * seconds_per_hour) #getting the number of seconds in a day\n"
   ]
  },
  {
   "cell_type": "code",
   "execution_count": 10,
   "id": "edd69f54",
   "metadata": {},
   "outputs": [
    {
     "name": "stdout",
     "output_type": "stream",
     "text": [
      "86400\n"
     ]
    }
   ],
   "source": [
    "seconds_per_day = (day * seconds_per_hour) # set the product of day * seconds_per_hour to new variable.\n",
    "print(seconds_per_day) #output the product of the equation"
   ]
  },
  {
   "cell_type": "code",
   "execution_count": 11,
   "id": "63be9a67",
   "metadata": {},
   "outputs": [
    {
     "name": "stdout",
     "output_type": "stream",
     "text": [
      "24.0\n"
     ]
    }
   ],
   "source": [
    "print(seconds_per_day / seconds_per_hour) # used floating point division to get quotient of seconds per day and seconds per hour"
   ]
  },
  {
   "cell_type": "code",
   "execution_count": 12,
   "id": "778a17e5",
   "metadata": {},
   "outputs": [
    {
     "name": "stdout",
     "output_type": "stream",
     "text": [
      "24\n"
     ]
    }
   ],
   "source": [
    "print(seconds_per_day // seconds_per_hour) # used integer division to get quotient of seconds per day and seconds per hour\n"
   ]
  },
  {
   "cell_type": "code",
   "execution_count": 13,
   "id": "2f35a3e2",
   "metadata": {},
   "outputs": [],
   "source": [
    "# Yes, the quotient of the second equation agreed with the quotient of the first equation other than the .0."
   ]
  },
  {
   "cell_type": "code",
   "execution_count": null,
   "id": "a4d644db",
   "metadata": {},
   "outputs": [],
   "source": []
  }
 ],
 "metadata": {
  "kernelspec": {
   "display_name": "Python 3 (ipykernel)",
   "language": "python",
   "name": "python3"
  },
  "language_info": {
   "codemirror_mode": {
    "name": "ipython",
    "version": 3
   },
   "file_extension": ".py",
   "mimetype": "text/x-python",
   "name": "python",
   "nbconvert_exporter": "python",
   "pygments_lexer": "ipython3",
   "version": "3.10.9"
  }
 },
 "nbformat": 4,
 "nbformat_minor": 5
}
