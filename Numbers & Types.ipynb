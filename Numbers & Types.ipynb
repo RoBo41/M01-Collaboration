{
 "cells": [
  {
   "cell_type": "code",
   "execution_count": 6,
   "id": "ade1a053",
   "metadata": {},
   "outputs": [
    {
     "name": "stdout",
     "output_type": "stream",
     "text": [
      "3600\n"
     ]
    }
   ],
   "source": [
    "hour = 60 #setting hour to 60 for how many minutes are in an hour\n",
    "seconds = 60 #setting seconds to 60 for how many seconds are in a minute\n",
    "\n",
    "result = (hour * seconds) #setting result as the product of hour * seconds\n",
    "print(result) #printing the result of the equation\n",
    "\n"
   ]
  },
  {
   "cell_type": "code",
   "execution_count": 8,
   "id": "ef9477f8",
   "metadata": {},
   "outputs": [],
   "source": [
    "seconds_per_hour = result #setting variable seconds_per_hour to hold the result of hour * seconds equation\n"
   ]
  },
  {
   "cell_type": "code",
   "execution_count": 9,
   "id": "0c7d6318",
   "metadata": {},
   "outputs": [
    {
     "name": "stdout",
     "output_type": "stream",
     "text": [
      "86400\n"
     ]
    }
   ],
   "source": [
    "day = 24 #setting variable day to 24 for hours in a day\n",
    "\n",
    "print(day * seconds_per_hour) #getting the number of seconds in a day\n"
   ]
  },
  {
   "cell_type": "code",
   "execution_count": 10,
   "id": "cc6162a9",
   "metadata": {},
   "outputs": [
    {
     "name": "stdout",
     "output_type": "stream",
     "text": [
      "86400\n"
     ]
    }
   ],
   "source": [
    "seconds_per_day = (day * seconds_per_hour) # set the product of day * seconds_per_hour to new variable.\n",
    "print(seconds_per_day) #output the product of the equation"
   ]
  },
  {
   "cell_type": "code",
   "execution_count": 11,
   "id": "a8aad870",
   "metadata": {},
   "outputs": [
    {
     "name": "stdout",
     "output_type": "stream",
     "text": [
      "24.0\n"
     ]
    }
   ],
   "source": [
    "print(seconds_per_day / seconds_per_hour) # used floating point division to get quotient of seconds per day and seconds per hour"
   ]
  },
  {
   "cell_type": "code",
   "execution_count": 12,
   "id": "960d0170",
   "metadata": {},
   "outputs": [
    {
     "name": "stdout",
     "output_type": "stream",
     "text": [
      "24\n"
     ]
    }
   ],
   "source": [
    "print(seconds_per_day // seconds_per_hour) # used integer division to get quotient of seconds per day and seconds per hour\n"
   ]
  },
  {
   "cell_type": "code",
   "execution_count": 13,
   "id": "ae151fb0",
   "metadata": {},
   "outputs": [],
   "source": [
    "# Yes, the quotient of the second equation agreed with the quotient of the first equation other than the .0."
   ]
  },
  {
   "cell_type": "code",
   "execution_count": null,
   "id": "5d535f69",
   "metadata": {},
   "outputs": [],
   "source": []
  }
 ],
 "metadata": {
  "kernelspec": {
   "display_name": "Python 3 (ipykernel)",
   "language": "python",
   "name": "python3"
  },
  "language_info": {
   "codemirror_mode": {
    "name": "ipython",
    "version": 3
   },
   "file_extension": ".py",
   "mimetype": "text/x-python",
   "name": "python",
   "nbconvert_exporter": "python",
   "pygments_lexer": "ipython3",
   "version": "3.10.9"
  }
 },
 "nbformat": 4,
 "nbformat_minor": 5
}
